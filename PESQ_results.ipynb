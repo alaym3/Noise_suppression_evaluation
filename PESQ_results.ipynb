{
 "cells": [
  {
   "attachments": {},
   "cell_type": "markdown",
   "metadata": {},
   "source": [
    "# Notebook to evaluate PESQ scores for audio run through each of the noise suppression models evaluated in this project.\n",
    "## The \"noisy\" audio files are compared with the file produced after running the noisy file through the models to calculate the PESQ score."
   ]
  },
  {
   "cell_type": "code",
   "execution_count": 30,
   "metadata": {},
   "outputs": [],
   "source": [
    "from scipy.io import wavfile\n",
    "from pesq import pesq\n",
    "import glob\n",
    "import numpy as np"
   ]
  },
  {
   "cell_type": "markdown",
   "metadata": {},
   "source": [
    "### Testing for one example"
   ]
  },
  {
   "cell_type": "code",
   "execution_count": 31,
   "metadata": {},
   "outputs": [
    {
     "name": "stdout",
     "output_type": "stream",
     "text": [
      "1.9711564779281616\n"
     ]
    }
   ],
   "source": [
    "rate, original = wavfile.read(\"test_data/babble/output_0$_0$_05.wav\")\n",
    "rate, output = wavfile.read(\"testing_output/DeepFilterNet2_Results/16khz_babble/output_0$_0$_05.wav_DeepFilterNet2.wav.wav\")\n",
    "\n",
    "# rate, output = wavfile.read(\"test_data/babble/output_0$_0$_05.wav\")\n",
    "# rate, original = wavfile.read(\"testing_output/DeepFilterNet2_Results/16khz_babble/output_0$_0$_05.wav_DeepFilterNet2.wav.wav\")\n",
    "\n",
    "print(pesq(rate, original, output, 'wb'))\n",
    "# print(pesq(rate, original, output, 'nb'))"
   ]
  },
  {
   "cell_type": "markdown",
   "metadata": {},
   "source": [
    "#### compute pesc\n",
    "wideband is 16000 hz"
   ]
  },
  {
   "cell_type": "markdown",
   "metadata": {},
   "source": [
    "## DFN2 babble"
   ]
  },
  {
   "cell_type": "markdown",
   "metadata": {},
   "source": [
    "#### lists of orig and output file paths"
   ]
  },
  {
   "cell_type": "code",
   "execution_count": 32,
   "metadata": {},
   "outputs": [],
   "source": [
    "original_path_babble = \"test_data/babble\"\n",
    "output_path_dfn2_babble = \"testing_output/DeepFilterNet2_Results/16khz_babble\""
   ]
  },
  {
   "cell_type": "markdown",
   "metadata": {},
   "source": [
    "#### file paths for DFN2 babble at 10 db"
   ]
  },
  {
   "cell_type": "code",
   "execution_count": 33,
   "metadata": {},
   "outputs": [],
   "source": [
    "original_babble_audiofiles = glob.glob(original_path_babble + \"/*_10.wav\")\n",
    "dfn2_babble_audiofiles = glob.glob(output_path_dfn2_babble + \"/*_10.wav_DeepFilterNet2.wav.wav\") \n",
    "original_babble_audiofiles.sort()\n",
    "dfn2_babble_audiofiles.sort()"
   ]
  },
  {
   "cell_type": "code",
   "execution_count": 34,
   "metadata": {},
   "outputs": [],
   "source": [
    "dfn_babble_10_scores = []\n",
    "for i in range(len(original_babble_audiofiles)):\n",
    "    rate, original = wavfile.read(original_babble_audiofiles[i])\n",
    "    rate, output = wavfile.read(dfn2_babble_audiofiles[i])\n",
    "    # print(pesq(rate, original, output, 'wb'))\n",
    "    dfn_babble_10_scores.append(pesq(rate, original, output, 'wb'))\n",
    "    # print(original_babble_audiofiles[i])\n",
    "    # print(dfn2_babble_audiofiles[i])\n",
    "\n",
    "dfn_babble_10_mean = np.mean(dfn_babble_10_scores)"
   ]
  },
  {
   "cell_type": "code",
   "execution_count": 35,
   "metadata": {},
   "outputs": [
    {
     "data": {
      "text/plain": [
       "2.4721264839172363"
      ]
     },
     "execution_count": 35,
     "metadata": {},
     "output_type": "execute_result"
    }
   ],
   "source": [
    "dfn_babble_10_mean"
   ]
  },
  {
   "cell_type": "markdown",
   "metadata": {},
   "source": [
    "#### file paths for DFN2 babble at 05 db"
   ]
  },
  {
   "cell_type": "code",
   "execution_count": 36,
   "metadata": {},
   "outputs": [],
   "source": [
    "original_babble_audiofiles = glob.glob(original_path_babble + \"/*_05.wav\")\n",
    "dfn2_babble_audiofiles = glob.glob(output_path_dfn2_babble + \"/*_05.wav_DeepFilterNet2.wav.wav\") \n",
    "original_babble_audiofiles.sort()\n",
    "dfn2_babble_audiofiles.sort()"
   ]
  },
  {
   "cell_type": "code",
   "execution_count": 37,
   "metadata": {},
   "outputs": [],
   "source": [
    "dfn_babble_05_scores = []\n",
    "for i in range(len(original_babble_audiofiles)):\n",
    "    rate, original = wavfile.read(original_babble_audiofiles[i])\n",
    "    rate, output = wavfile.read(dfn2_babble_audiofiles[i])\n",
    "    # print(pesq(rate, original, output, 'wb'))\n",
    "    dfn_babble_05_scores.append(pesq(rate, original, output, 'wb'))\n",
    "\n",
    "dfn_babble_05_mean = np.mean(dfn_babble_05_scores)"
   ]
  },
  {
   "cell_type": "code",
   "execution_count": 38,
   "metadata": {},
   "outputs": [
    {
     "data": {
      "text/plain": [
       "1.6544664204120636"
      ]
     },
     "execution_count": 38,
     "metadata": {},
     "output_type": "execute_result"
    }
   ],
   "source": [
    "dfn_babble_05_mean"
   ]
  },
  {
   "cell_type": "markdown",
   "metadata": {},
   "source": [
    "#### file paths for DFN2 babble at 00 db"
   ]
  },
  {
   "cell_type": "code",
   "execution_count": 39,
   "metadata": {},
   "outputs": [],
   "source": [
    "original_babble_audiofiles = glob.glob(original_path_babble + \"/*_00.wav\")\n",
    "dfn2_babble_audiofiles = glob.glob(output_path_dfn2_babble + \"/*_00.wav_DeepFilterNet2.wav.wav\") \n",
    "original_babble_audiofiles.sort()\n",
    "dfn2_babble_audiofiles.sort()"
   ]
  },
  {
   "cell_type": "code",
   "execution_count": 40,
   "metadata": {},
   "outputs": [],
   "source": [
    "dfn_babble_00_scores = []\n",
    "for i in range(len(dfn2_babble_audiofiles)):\n",
    "    rate, original = wavfile.read(original_babble_audiofiles[i])\n",
    "    rate, output = wavfile.read(dfn2_babble_audiofiles[i])\n",
    "    # print(pesq(rate, original, output, 'wb'))\n",
    "    dfn_babble_00_scores.append(pesq(rate, original, output, 'wb'))\n",
    "\n",
    "dfn_babble_00_mean = np.mean(dfn_babble_00_scores)"
   ]
  },
  {
   "cell_type": "code",
   "execution_count": 41,
   "metadata": {},
   "outputs": [
    {
     "data": {
      "text/plain": [
       "1.0518019795417786"
      ]
     },
     "execution_count": 41,
     "metadata": {},
     "output_type": "execute_result"
    }
   ],
   "source": [
    "dfn_babble_00_mean"
   ]
  },
  {
   "cell_type": "markdown",
   "metadata": {},
   "source": [
    "#### file paths for DFN2 babble at -05 db"
   ]
  },
  {
   "cell_type": "code",
   "execution_count": 42,
   "metadata": {},
   "outputs": [],
   "source": [
    "original_babble_audiofiles = glob.glob(original_path_babble + \"/*_-05.wav\")\n",
    "dfn2_babble_audiofiles = glob.glob(output_path_dfn2_babble + \"/*_-05.wav_DeepFilterNet2.wav.wav\") \n",
    "original_babble_audiofiles.sort()\n",
    "dfn2_babble_audiofiles.sort()"
   ]
  },
  {
   "cell_type": "code",
   "execution_count": 43,
   "metadata": {},
   "outputs": [],
   "source": [
    "dfn_babble_minus05_scores = []\n",
    "for i in range(len(dfn2_babble_audiofiles)):\n",
    "    # print(original_babble_audiofiles[i])\n",
    "    # print(dfn2_babble_audiofiles[i])\n",
    "    rate, original = wavfile.read(original_babble_audiofiles[i])\n",
    "    rate, output = wavfile.read(dfn2_babble_audiofiles[i])\n",
    "    # print(pesq(rate, original, output, 'wb'))\n",
    "    dfn_babble_minus05_scores.append(pesq(rate, original, output, 'wb'))\n",
    "\n",
    "dfn_babble_minus05_mean = np.mean(dfn_babble_minus05_scores)"
   ]
  },
  {
   "cell_type": "code",
   "execution_count": 44,
   "metadata": {},
   "outputs": [
    {
     "data": {
      "text/plain": [
       "1.0739867687225342"
      ]
     },
     "execution_count": 44,
     "metadata": {},
     "output_type": "execute_result"
    }
   ],
   "source": [
    "dfn_babble_minus05_mean"
   ]
  },
  {
   "cell_type": "markdown",
   "metadata": {},
   "source": [
    "## DFN2 gaussian"
   ]
  },
  {
   "cell_type": "markdown",
   "metadata": {},
   "source": [
    "#### lists of orig and output file paths"
   ]
  },
  {
   "cell_type": "code",
   "execution_count": 45,
   "metadata": {},
   "outputs": [],
   "source": [
    "original_path_gaussian = \"test_data/gaussian\"\n",
    "output_path_dfn2_gaussian = \"testing_output/DeepFilterNet2_Results/16khz_gaussian\""
   ]
  },
  {
   "cell_type": "markdown",
   "metadata": {},
   "source": [
    "#### file paths for DFN2 gaussian at 10 db"
   ]
  },
  {
   "cell_type": "code",
   "execution_count": 46,
   "metadata": {},
   "outputs": [],
   "source": [
    "original_gaussian_audiofiles = glob.glob(original_path_gaussian + \"/*_10.wav\")\n",
    "dfn2_gaussian_audiofiles = glob.glob(output_path_dfn2_gaussian + \"/*_10.wav_DeepFilterNet2.wav.wav\") \n",
    "original_gaussian_audiofiles.sort()\n",
    "dfn2_gaussian_audiofiles.sort()"
   ]
  },
  {
   "cell_type": "code",
   "execution_count": 47,
   "metadata": {},
   "outputs": [],
   "source": [
    "dfn_gaussian_10_scores = []\n",
    "for i in range(len(original_gaussian_audiofiles)):\n",
    "    rate, original = wavfile.read(original_gaussian_audiofiles[i])\n",
    "    rate, output = wavfile.read(dfn2_gaussian_audiofiles[i])\n",
    "    # print(pesq(rate, original, output, 'wb'))\n",
    "    dfn_gaussian_10_scores.append(pesq(rate, original, output, 'wb'))\n",
    "    # print(original_babble_audiofiles[i])\n",
    "    # print(dfn2_babble_audiofiles[i])\n",
    "\n",
    "dfn_gaussian_10_mean = np.mean(dfn_gaussian_10_scores)"
   ]
  },
  {
   "cell_type": "code",
   "execution_count": 48,
   "metadata": {},
   "outputs": [
    {
     "data": {
      "text/plain": [
       "2.5068340450525284"
      ]
     },
     "execution_count": 48,
     "metadata": {},
     "output_type": "execute_result"
    }
   ],
   "source": [
    "dfn_gaussian_10_mean"
   ]
  },
  {
   "cell_type": "markdown",
   "metadata": {},
   "source": [
    "#### file paths for DFN2 gaussian at 05 db"
   ]
  },
  {
   "cell_type": "code",
   "execution_count": 49,
   "metadata": {},
   "outputs": [],
   "source": [
    "original_gaussian_audiofiles = glob.glob(original_path_gaussian + \"/*_05.wav\")\n",
    "dfn2_gaussian_audiofiles = glob.glob(output_path_dfn2_gaussian + \"/*_05.wav_DeepFilterNet2.wav.wav\") \n",
    "original_gaussian_audiofiles.sort()\n",
    "dfn2_gaussian_audiofiles.sort()"
   ]
  },
  {
   "cell_type": "code",
   "execution_count": 50,
   "metadata": {},
   "outputs": [],
   "source": [
    "dfn_gaussian_05_scores = []\n",
    "for i in range(len(original_gaussian_audiofiles)):\n",
    "    rate, original = wavfile.read(original_gaussian_audiofiles[i])\n",
    "    rate, output = wavfile.read(dfn2_gaussian_audiofiles[i])\n",
    "    # print(pesq(rate, original, output, 'wb'))\n",
    "    dfn_gaussian_05_scores.append(pesq(rate, original, output, 'wb'))\n",
    "    # print(original_babble_audiofiles[i])\n",
    "    # print(dfn2_babble_audiofiles[i])\n",
    "\n",
    "dfn_gaussian_05_mean = np.mean(dfn_gaussian_05_scores)"
   ]
  },
  {
   "cell_type": "code",
   "execution_count": 51,
   "metadata": {},
   "outputs": [
    {
     "data": {
      "text/plain": [
       "1.6775100380182266"
      ]
     },
     "execution_count": 51,
     "metadata": {},
     "output_type": "execute_result"
    }
   ],
   "source": [
    "dfn_gaussian_05_mean"
   ]
  },
  {
   "cell_type": "markdown",
   "metadata": {},
   "source": [
    "#### file paths for DFN2 gaussian at 00 db"
   ]
  },
  {
   "cell_type": "code",
   "execution_count": 52,
   "metadata": {},
   "outputs": [],
   "source": [
    "original_gaussian_audiofiles = glob.glob(original_path_gaussian + \"/*_00.wav\")\n",
    "dfn2_gaussian_audiofiles = glob.glob(output_path_dfn2_gaussian + \"/*_00.wav_DeepFilterNet2.wav.wav\") \n",
    "original_gaussian_audiofiles.sort()\n",
    "dfn2_gaussian_audiofiles.sort()"
   ]
  },
  {
   "cell_type": "code",
   "execution_count": 53,
   "metadata": {},
   "outputs": [],
   "source": [
    "dfn_gaussian_00_scores = []\n",
    "for i in range(len(original_gaussian_audiofiles)):\n",
    "    rate, original = wavfile.read(original_gaussian_audiofiles[i])\n",
    "    rate, output = wavfile.read(dfn2_gaussian_audiofiles[i])\n",
    "    # print(pesq(rate, original, output, 'wb'))\n",
    "    dfn_gaussian_00_scores.append(pesq(rate, original, output, 'wb'))\n",
    "    # print(original_babble_audiofiles[i])\n",
    "    # print(dfn2_babble_audiofiles[i])\n",
    "\n",
    "dfn_gaussian_00_mean = np.mean(dfn_gaussian_00_scores)"
   ]
  },
  {
   "cell_type": "code",
   "execution_count": 54,
   "metadata": {},
   "outputs": [
    {
     "data": {
      "text/plain": [
       "1.0819158256053925"
      ]
     },
     "execution_count": 54,
     "metadata": {},
     "output_type": "execute_result"
    }
   ],
   "source": [
    "dfn_gaussian_00_mean"
   ]
  },
  {
   "cell_type": "markdown",
   "metadata": {},
   "source": [
    "#### file paths for DFN2 gaussian at -05 db\n",
    "N/A score for DFN2 at gaussian -05 - doesn't detect any utterances"
   ]
  },
  {
   "cell_type": "code",
   "execution_count": 55,
   "metadata": {},
   "outputs": [],
   "source": [
    "original_gaussian_audiofiles = glob.glob(original_path_gaussian + \"/*_-05.wav\")\n",
    "dfn2_gaussian_audiofiles = glob.glob(output_path_dfn2_gaussian + \"/*_-05.wav_DeepFilterNet2.wav.wav\") \n",
    "original_gaussian_audiofiles.sort()\n",
    "dfn2_gaussian_audiofiles.sort()"
   ]
  },
  {
   "cell_type": "code",
   "execution_count": 56,
   "metadata": {},
   "outputs": [],
   "source": [
    "dfn_gaussian_minus05_scores = []\n",
    "for i in range(len(original_gaussian_audiofiles)):\n",
    "    rate, original = wavfile.read(original_gaussian_audiofiles[i])\n",
    "    rate, output = wavfile.read(dfn2_gaussian_audiofiles[i])\n",
    "    # print(pesq(rate, original, output, 'wb'))\n",
    "    # dfn_gaussian_minus05_scores.append(pesq(rate, original, output, 'wb'))\n",
    "    # print(original_babble_audiofiles[i])\n",
    "    # print(dfn2_babble_audiofiles[i])\n",
    "\n",
    "# dfn_gaussian_minus05_mean = np.mean(dfn_gaussian_minus05_scores)"
   ]
  },
  {
   "cell_type": "markdown",
   "metadata": {},
   "source": [
    "## augmentedhearing babble"
   ]
  },
  {
   "cell_type": "markdown",
   "metadata": {},
   "source": [
    "#### file paths for pn babble"
   ]
  },
  {
   "cell_type": "code",
   "execution_count": 57,
   "metadata": {},
   "outputs": [],
   "source": [
    "original_path_babble = \"test_data/babble\"\n",
    "output_path_pn_babble = \"testing_output/PerceptNet_augmentedhearing.io/babble\""
   ]
  },
  {
   "cell_type": "markdown",
   "metadata": {},
   "source": [
    "#### file paths for PN babble at 10 db"
   ]
  },
  {
   "cell_type": "code",
   "execution_count": 58,
   "metadata": {},
   "outputs": [],
   "source": [
    "original_babble_audiofiles = glob.glob(original_path_babble + \"/*_10.wav\")\n",
    "pn_babble_audiofiles = glob.glob(output_path_pn_babble + \"/*_10_out.wav\") \n",
    "original_babble_audiofiles.sort()\n",
    "pn_babble_audiofiles.sort()"
   ]
  },
  {
   "cell_type": "code",
   "execution_count": 59,
   "metadata": {},
   "outputs": [],
   "source": [
    "pn_babble_10_scores = []\n",
    "for i in range(len(original_babble_audiofiles)):\n",
    "    rate, original = wavfile.read(original_babble_audiofiles[i])\n",
    "    rate, output = wavfile.read(pn_babble_audiofiles[i])\n",
    "    # print(pesq(rate, original, output, 'wb'))\n",
    "    pn_babble_10_scores.append(pesq(rate, original, output, 'wb'))\n",
    "    # print(original_babble_audiofiles[i])\n",
    "    # print(dfn2_babble_audiofiles[i])\n",
    "\n",
    "pn_babble_10_mean = np.mean(pn_babble_10_scores)"
   ]
  },
  {
   "cell_type": "code",
   "execution_count": 60,
   "metadata": {},
   "outputs": [
    {
     "data": {
      "text/plain": [
       "1.6794390678405762"
      ]
     },
     "execution_count": 60,
     "metadata": {},
     "output_type": "execute_result"
    }
   ],
   "source": [
    "pn_babble_10_mean"
   ]
  },
  {
   "cell_type": "markdown",
   "metadata": {},
   "source": [
    "#### file paths for PN babble at 05 db"
   ]
  },
  {
   "cell_type": "code",
   "execution_count": 61,
   "metadata": {},
   "outputs": [],
   "source": [
    "original_babble_audiofiles = glob.glob(original_path_babble + \"/*_05.wav\")\n",
    "pn_babble_audiofiles = glob.glob(output_path_pn_babble + \"/*_05_out.wav\") \n",
    "original_babble_audiofiles.sort()\n",
    "pn_babble_audiofiles.sort()"
   ]
  },
  {
   "cell_type": "code",
   "execution_count": 62,
   "metadata": {},
   "outputs": [],
   "source": [
    "pn_babble_05_scores = []\n",
    "for i in range(len(original_babble_audiofiles)):\n",
    "    rate, original = wavfile.read(original_babble_audiofiles[i])\n",
    "    rate, output = wavfile.read(pn_babble_audiofiles[i])\n",
    "    # print(pesq(rate, original, output, 'wb'))\n",
    "    pn_babble_05_scores.append(pesq(rate, original, output, 'wb'))\n",
    "    # print(original_babble_audiofiles[i])\n",
    "    # print(dfn2_babble_audiofiles[i])\n",
    "\n",
    "pn_babble_05_mean = np.mean(pn_babble_05_scores)"
   ]
  },
  {
   "cell_type": "code",
   "execution_count": 63,
   "metadata": {},
   "outputs": [
    {
     "data": {
      "text/plain": [
       "1.2598472386598587"
      ]
     },
     "execution_count": 63,
     "metadata": {},
     "output_type": "execute_result"
    }
   ],
   "source": [
    "pn_babble_05_mean"
   ]
  },
  {
   "cell_type": "markdown",
   "metadata": {},
   "source": [
    "#### file paths for PN babble at 00 db"
   ]
  },
  {
   "cell_type": "code",
   "execution_count": 64,
   "metadata": {},
   "outputs": [],
   "source": [
    "original_babble_audiofiles = glob.glob(original_path_babble + \"/*_00.wav\")\n",
    "pn_babble_audiofiles = glob.glob(output_path_pn_babble + \"/*_00_out.wav\") \n",
    "original_babble_audiofiles.sort()\n",
    "pn_babble_audiofiles.sort()"
   ]
  },
  {
   "cell_type": "code",
   "execution_count": 65,
   "metadata": {},
   "outputs": [],
   "source": [
    "pn_babble_00_scores = []\n",
    "for i in range(len(original_babble_audiofiles)):\n",
    "    rate, original = wavfile.read(original_babble_audiofiles[i])\n",
    "    rate, output = wavfile.read(pn_babble_audiofiles[i])\n",
    "    # print(pesq(rate, original, output, 'wb'))\n",
    "    pn_babble_00_scores.append(pesq(rate, original, output, 'wb'))\n",
    "    # print(original_babble_audiofiles[i])\n",
    "    # print(dfn2_babble_audiofiles[i])\n",
    "\n",
    "pn_babble_00_mean = np.mean(pn_babble_00_scores)"
   ]
  },
  {
   "cell_type": "code",
   "execution_count": 66,
   "metadata": {},
   "outputs": [
    {
     "data": {
      "text/plain": [
       "1.035588026046753"
      ]
     },
     "execution_count": 66,
     "metadata": {},
     "output_type": "execute_result"
    }
   ],
   "source": [
    "pn_babble_00_mean"
   ]
  },
  {
   "cell_type": "markdown",
   "metadata": {},
   "source": [
    "#### file paths for PN babble at -05 db"
   ]
  },
  {
   "cell_type": "code",
   "execution_count": 67,
   "metadata": {},
   "outputs": [],
   "source": [
    "original_babble_audiofiles = glob.glob(original_path_babble + \"/*_-05.wav\")\n",
    "pn_babble_audiofiles = glob.glob(output_path_pn_babble + \"/*_-05_out.wav\") \n",
    "original_babble_audiofiles.sort()\n",
    "pn_babble_audiofiles.sort()"
   ]
  },
  {
   "cell_type": "code",
   "execution_count": 68,
   "metadata": {},
   "outputs": [],
   "source": [
    "pn_babble_minus05_scores = []\n",
    "for i in range(len(original_babble_audiofiles)):\n",
    "    rate, original = wavfile.read(original_babble_audiofiles[i])\n",
    "    rate, output = wavfile.read(pn_babble_audiofiles[i])\n",
    "    # print(pesq(rate, original, output, 'wb'))\n",
    "    pn_babble_minus05_scores.append(pesq(rate, original, output, 'wb'))\n",
    "    # print(original_babble_audiofiles[i])\n",
    "    # print(dfn2_babble_audiofiles[i])\n",
    "\n",
    "pn_babble_minus05_mean = np.mean(pn_babble_minus05_scores)"
   ]
  },
  {
   "cell_type": "code",
   "execution_count": 69,
   "metadata": {},
   "outputs": [
    {
     "data": {
      "text/plain": [
       "1.0305391997098923"
      ]
     },
     "execution_count": 69,
     "metadata": {},
     "output_type": "execute_result"
    }
   ],
   "source": [
    "pn_babble_minus05_mean"
   ]
  },
  {
   "cell_type": "markdown",
   "metadata": {},
   "source": [
    "## augmentedhearing gaussian"
   ]
  },
  {
   "cell_type": "markdown",
   "metadata": {},
   "source": [
    "file paths for pn gaussian"
   ]
  },
  {
   "cell_type": "code",
   "execution_count": 70,
   "metadata": {},
   "outputs": [],
   "source": [
    "original_path_gaussian = \"test_data/gaussian\"\n",
    "output_path_pn_gaussian = \"testing_output/PerceptNet_augmentedhearing.io/gaussian\""
   ]
  },
  {
   "cell_type": "markdown",
   "metadata": {},
   "source": [
    "#### file paths for PN gaussian at 10 db"
   ]
  },
  {
   "cell_type": "code",
   "execution_count": 71,
   "metadata": {},
   "outputs": [],
   "source": [
    "original_gaussian_audiofiles = glob.glob(original_path_gaussian + \"/*_10.wav\")\n",
    "pn_gaussian_audiofiles = glob.glob(output_path_pn_gaussian + \"/*_10_out.wav\") \n",
    "original_gaussian_audiofiles.sort()\n",
    "pn_gaussian_audiofiles.sort()"
   ]
  },
  {
   "cell_type": "code",
   "execution_count": 72,
   "metadata": {},
   "outputs": [],
   "source": [
    "pn_gaussian_10_scores = []\n",
    "for i in range(len(original_gaussian_audiofiles)):\n",
    "    rate, original = wavfile.read(original_gaussian_audiofiles[i])\n",
    "    rate, output = wavfile.read(pn_gaussian_audiofiles[i])\n",
    "    # print(pesq(rate, original, output, 'wb'))\n",
    "    pn_gaussian_10_scores.append(pesq(rate, original, output, 'wb'))\n",
    "    # print(original_babble_audiofiles[i])\n",
    "    # print(dfn2_babble_audiofiles[i])\n",
    "\n",
    "pn_gaussian_10_mean = np.mean(pn_gaussian_10_scores)"
   ]
  },
  {
   "cell_type": "code",
   "execution_count": 73,
   "metadata": {},
   "outputs": [
    {
     "data": {
      "text/plain": [
       "1.7618659138679504"
      ]
     },
     "execution_count": 73,
     "metadata": {},
     "output_type": "execute_result"
    }
   ],
   "source": [
    "pn_gaussian_10_mean"
   ]
  },
  {
   "cell_type": "markdown",
   "metadata": {},
   "source": [
    "#### file paths for PN gaussian at 05 db"
   ]
  },
  {
   "cell_type": "code",
   "execution_count": 74,
   "metadata": {},
   "outputs": [],
   "source": [
    "original_gaussian_audiofiles = glob.glob(original_path_gaussian + \"/*_05.wav\")\n",
    "pn_gaussian_audiofiles = glob.glob(output_path_pn_gaussian + \"/*_05_out.wav\") \n",
    "original_gaussian_audiofiles.sort()\n",
    "pn_gaussian_audiofiles.sort()"
   ]
  },
  {
   "cell_type": "code",
   "execution_count": 75,
   "metadata": {},
   "outputs": [],
   "source": [
    "pn_gaussian_05_scores = []\n",
    "for i in range(len(original_gaussian_audiofiles)):\n",
    "    rate, original = wavfile.read(original_gaussian_audiofiles[i])\n",
    "    rate, output = wavfile.read(pn_gaussian_audiofiles[i])\n",
    "    # print(pesq(rate, original, output, 'wb'))\n",
    "    pn_gaussian_05_scores.append(pesq(rate, original, output, 'wb'))\n",
    "    # print(original_babble_audiofiles[i])\n",
    "    # print(dfn2_babble_audiofiles[i])\n",
    "\n",
    "pn_gaussian_05_mean = np.mean(pn_gaussian_05_scores)"
   ]
  },
  {
   "cell_type": "code",
   "execution_count": 76,
   "metadata": {},
   "outputs": [
    {
     "data": {
      "text/plain": [
       "1.3292063027620316"
      ]
     },
     "execution_count": 76,
     "metadata": {},
     "output_type": "execute_result"
    }
   ],
   "source": [
    "pn_gaussian_05_mean"
   ]
  },
  {
   "cell_type": "markdown",
   "metadata": {},
   "source": [
    "#### file paths for PN gaussian at 00 db"
   ]
  },
  {
   "cell_type": "code",
   "execution_count": 77,
   "metadata": {},
   "outputs": [],
   "source": [
    "original_gaussian_audiofiles = glob.glob(original_path_gaussian + \"/*_00.wav\")\n",
    "pn_gaussian_audiofiles = glob.glob(output_path_pn_gaussian + \"/*_00_out.wav\") \n",
    "original_gaussian_audiofiles.sort()\n",
    "pn_gaussian_audiofiles.sort()"
   ]
  },
  {
   "cell_type": "code",
   "execution_count": 78,
   "metadata": {},
   "outputs": [],
   "source": [
    "pn_gaussian_00_scores = []\n",
    "for i in range(len(original_gaussian_audiofiles)):\n",
    "    rate, original = wavfile.read(original_gaussian_audiofiles[i])\n",
    "    rate, output = wavfile.read(pn_gaussian_audiofiles[i])\n",
    "    # print(pesq(rate, original, output, 'wb'))\n",
    "    pn_gaussian_00_scores.append(pesq(rate, original, output, 'wb'))\n",
    "    # print(original_babble_audiofiles[i])\n",
    "    # print(dfn2_babble_audiofiles[i])\n",
    "\n",
    "pn_gaussian_00_mean = np.mean(pn_gaussian_00_scores)"
   ]
  },
  {
   "cell_type": "code",
   "execution_count": 79,
   "metadata": {},
   "outputs": [
    {
     "data": {
      "text/plain": [
       "1.0475696474313736"
      ]
     },
     "execution_count": 79,
     "metadata": {},
     "output_type": "execute_result"
    }
   ],
   "source": [
    "pn_gaussian_00_mean"
   ]
  },
  {
   "cell_type": "markdown",
   "metadata": {},
   "source": [
    "#### file paths for PN gaussian at -05 db\n",
    "PESQ cannot run at -05 db."
   ]
  },
  {
   "cell_type": "code",
   "execution_count": 80,
   "metadata": {},
   "outputs": [],
   "source": [
    "original_gaussian_audiofiles = glob.glob(original_path_gaussian + \"/*_-05.wav\")\n",
    "pn_gaussian_audiofiles = glob.glob(output_path_pn_gaussian + \"/*_-05_out.wav\") \n",
    "original_gaussian_audiofiles.sort()\n",
    "pn_gaussian_audiofiles.sort()"
   ]
  },
  {
   "cell_type": "markdown",
   "metadata": {},
   "source": []
  }
 ],
 "metadata": {
  "kernelspec": {
   "display_name": "Python 3.8.13 ('venv1')",
   "language": "python",
   "name": "python3"
  },
  "language_info": {
   "codemirror_mode": {
    "name": "ipython",
    "version": 3
   },
   "file_extension": ".py",
   "mimetype": "text/x-python",
   "name": "python",
   "nbconvert_exporter": "python",
   "pygments_lexer": "ipython3",
   "version": "3.8.13"
  },
  "orig_nbformat": 4,
  "vscode": {
   "interpreter": {
    "hash": "ac5508c8e1df463d7330a5b60a5e0a1103f1ed14a99f651bccdac65323c1446a"
   }
  }
 },
 "nbformat": 4,
 "nbformat_minor": 2
}
